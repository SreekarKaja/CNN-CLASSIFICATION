{
 "cells": [
  {
   "cell_type": "code",
   "execution_count": 1,
   "metadata": {},
   "outputs": [
    {
     "name": "stderr",
     "output_type": "stream",
     "text": [
      "Using TensorFlow backend.\n"
     ]
    }
   ],
   "source": [
    "import tensorflow as tf\n",
    "import keras\n",
    "# Building the CNN\n",
    "\n",
    "# Importing the Keras libraries and packages'''\n",
    "from keras.models import Sequential\n",
    "from keras.layers import Convolution2D\n",
    "from keras.layers import MaxPooling2D\n",
    "from keras.layers import Flatten\n",
    "from keras.layers import Dense\n"
   ]
  },
  {
   "cell_type": "code",
   "execution_count": 2,
   "metadata": {},
   "outputs": [
    {
     "name": "stderr",
     "output_type": "stream",
     "text": [
      "WARNING: Logging before flag parsing goes to stderr.\n",
      "W0626 11:07:55.529469 13172 deprecation_wrapper.py:119] From C:\\Users\\SAI SREEKAR KAJA\\Anaconda3\\lib\\site-packages\\keras\\backend\\tensorflow_backend.py:74: The name tf.get_default_graph is deprecated. Please use tf.compat.v1.get_default_graph instead.\n",
      "\n",
      "C:\\Users\\SAI SREEKAR KAJA\\Anaconda3\\lib\\site-packages\\ipykernel_launcher.py:4: UserWarning: Update your `Conv2D` call to the Keras 2 API: `Conv2D(32, (3, 3), input_shape=(64, 64, 3..., activation=\"relu\")`\n",
      "  after removing the cwd from sys.path.\n",
      "W0626 11:07:55.848316 13172 deprecation_wrapper.py:119] From C:\\Users\\SAI SREEKAR KAJA\\Anaconda3\\lib\\site-packages\\keras\\backend\\tensorflow_backend.py:517: The name tf.placeholder is deprecated. Please use tf.compat.v1.placeholder instead.\n",
      "\n",
      "W0626 11:07:55.855297 13172 deprecation_wrapper.py:119] From C:\\Users\\SAI SREEKAR KAJA\\Anaconda3\\lib\\site-packages\\keras\\backend\\tensorflow_backend.py:4138: The name tf.random_uniform is deprecated. Please use tf.random.uniform instead.\n",
      "\n",
      "W0626 11:07:55.950404 13172 deprecation_wrapper.py:119] From C:\\Users\\SAI SREEKAR KAJA\\Anaconda3\\lib\\site-packages\\keras\\backend\\tensorflow_backend.py:3976: The name tf.nn.max_pool is deprecated. Please use tf.nn.max_pool2d instead.\n",
      "\n"
     ]
    }
   ],
   "source": [
    "classifier = Sequential()\n",
    "\n",
    "# Step 1 - Convolution\n",
    "classifier.add(Convolution2D(32, 3, 3, input_shape = (64, 64, 3), activation = 'relu'))\n",
    "\n",
    "# Step 2 - Pooling\n",
    "classifier.add(MaxPooling2D(pool_size = (2, 2)))\n"
   ]
  },
  {
   "cell_type": "code",
   "execution_count": 3,
   "metadata": {},
   "outputs": [],
   "source": [
    "# Step 3 - Flattening\n",
    "classifier.add(Flatten())"
   ]
  },
  {
   "cell_type": "code",
   "execution_count": 4,
   "metadata": {},
   "outputs": [
    {
     "name": "stderr",
     "output_type": "stream",
     "text": [
      "C:\\Users\\SAI SREEKAR KAJA\\Anaconda3\\lib\\site-packages\\ipykernel_launcher.py:2: UserWarning: Update your `Dense` call to the Keras 2 API: `Dense(activation=\"relu\", units=128)`\n",
      "  \n",
      "C:\\Users\\SAI SREEKAR KAJA\\Anaconda3\\lib\\site-packages\\ipykernel_launcher.py:3: UserWarning: Update your `Dense` call to the Keras 2 API: `Dense(activation=\"sigmoid\", units=1)`\n",
      "  This is separate from the ipykernel package so we can avoid doing imports until\n"
     ]
    }
   ],
   "source": [
    "# Step 4 - Full connection\n",
    "classifier.add(Dense(output_dim = 128, activation = 'relu'))\n",
    "classifier.add(Dense(output_dim = 1, activation = 'sigmoid'))"
   ]
  },
  {
   "cell_type": "code",
   "execution_count": 5,
   "metadata": {},
   "outputs": [
    {
     "name": "stderr",
     "output_type": "stream",
     "text": [
      "W0626 11:09:18.381643 13172 deprecation_wrapper.py:119] From C:\\Users\\SAI SREEKAR KAJA\\Anaconda3\\lib\\site-packages\\keras\\optimizers.py:790: The name tf.train.Optimizer is deprecated. Please use tf.compat.v1.train.Optimizer instead.\n",
      "\n",
      "W0626 11:09:18.407330 13172 deprecation_wrapper.py:119] From C:\\Users\\SAI SREEKAR KAJA\\Anaconda3\\lib\\site-packages\\keras\\backend\\tensorflow_backend.py:3376: The name tf.log is deprecated. Please use tf.math.log instead.\n",
      "\n",
      "W0626 11:09:18.413754 13172 deprecation.py:323] From C:\\Users\\SAI SREEKAR KAJA\\Anaconda3\\lib\\site-packages\\tensorflow\\python\\ops\\nn_impl.py:180: add_dispatch_support.<locals>.wrapper (from tensorflow.python.ops.array_ops) is deprecated and will be removed in a future version.\n",
      "Instructions for updating:\n",
      "Use tf.where in 2.0, which has the same broadcast rule as np.where\n"
     ]
    }
   ],
   "source": [
    "classifier.compile(optimizer = 'adam', loss = 'binary_crossentropy', metrics = ['accuracy'])\n"
   ]
  },
  {
   "cell_type": "code",
   "execution_count": 6,
   "metadata": {},
   "outputs": [],
   "source": [
    "from keras.preprocessing.image import ImageDataGenerator\n",
    "\n",
    "train_datagen = ImageDataGenerator(rescale = 1./255,\n",
    "                                   shear_range = 0.2,\n",
    "                                   zoom_range = 0.2,\n",
    "                                   horizontal_flip = True)\n",
    "\n",
    "test_datagen = ImageDataGenerator(rescale = 1./255)"
   ]
  },
  {
   "cell_type": "code",
   "execution_count": 7,
   "metadata": {},
   "outputs": [],
   "source": [
    "import os"
   ]
  },
  {
   "cell_type": "code",
   "execution_count": 8,
   "metadata": {},
   "outputs": [],
   "source": [
    "os.getcwd()\n",
    "os.chdir('C:\\\\Users\\\\SAI SREEKAR KAJA\\\\Desktop\\\\python\\\\01_DataScience\\\\Datasets\\\\cnn_imgs_dataset\\\\')\n"
   ]
  },
  {
   "cell_type": "code",
   "execution_count": 10,
   "metadata": {},
   "outputs": [
    {
     "name": "stdout",
     "output_type": "stream",
     "text": [
      "Found 8000 images belonging to 2 classes.\n",
      "Found 2000 images belonging to 2 classes.\n"
     ]
    }
   ],
   "source": [
    "training_set=train_datagen.flow_from_directory('training_set',\n",
    "                                               target_size=(64,64),\n",
    "                                               batch_size=32,\n",
    "                                               class_mode='binary')\n",
    "test_set=test_datagen.flow_from_directory('test_set',\n",
    "                                          target_size=(64,64),\n",
    "                                          batch_size=32,\n",
    "                                          class_mode='binary')"
   ]
  },
  {
   "cell_type": "code",
   "execution_count": 11,
   "metadata": {},
   "outputs": [
    {
     "name": "stderr",
     "output_type": "stream",
     "text": [
      "C:\\Users\\SAI SREEKAR KAJA\\Anaconda3\\lib\\site-packages\\ipykernel_launcher.py:6: UserWarning: The semantics of the Keras 2 argument `steps_per_epoch` is not the same as the Keras 1 argument `samples_per_epoch`. `steps_per_epoch` is the number of batches to draw from the generator at each epoch. Basically steps_per_epoch = samples_per_epoch/batch_size. Similarly `nb_val_samples`->`validation_steps` and `val_samples`->`steps` arguments have changed. Update your method calls accordingly.\n",
      "  \n",
      "C:\\Users\\SAI SREEKAR KAJA\\Anaconda3\\lib\\site-packages\\ipykernel_launcher.py:6: UserWarning: Update your `fit_generator` call to the Keras 2 API: `fit_generator(<keras_pre..., validation_data=<keras_pre..., steps_per_epoch=3, epochs=55, validation_steps=200)`\n",
      "  \n",
      "W0626 11:12:18.537406 13172 deprecation_wrapper.py:119] From C:\\Users\\SAI SREEKAR KAJA\\Anaconda3\\lib\\site-packages\\keras\\backend\\tensorflow_backend.py:986: The name tf.assign_add is deprecated. Please use tf.compat.v1.assign_add instead.\n",
      "\n"
     ]
    },
    {
     "name": "stdout",
     "output_type": "stream",
     "text": [
      "Epoch 1/55\n",
      "3/3 [==============================] - 32s 11s/step - loss: 1.6046 - acc: 0.5208 - val_loss: 0.7368 - val_acc: 0.5063\n",
      "Epoch 2/55\n",
      "3/3 [==============================] - 34s 11s/step - loss: 0.8156 - acc: 0.4792 - val_loss: 0.7541 - val_acc: 0.5050\n",
      "Epoch 3/55\n",
      "3/3 [==============================] - 33s 11s/step - loss: 0.8001 - acc: 0.5625 - val_loss: 0.7606 - val_acc: 0.4987\n",
      "Epoch 4/55\n",
      "3/3 [==============================] - 32s 11s/step - loss: 0.7760 - acc: 0.5625 - val_loss: 0.6815 - val_acc: 0.5614\n",
      "Epoch 5/55\n",
      "3/3 [==============================] - 33s 11s/step - loss: 0.6653 - acc: 0.6042 - val_loss: 0.6784 - val_acc: 0.5751\n",
      "Epoch 6/55\n",
      "3/3 [==============================] - 33s 11s/step - loss: 0.6694 - acc: 0.5729 - val_loss: 0.7833 - val_acc: 0.5058\n",
      "Epoch 7/55\n",
      "3/3 [==============================] - 31s 10s/step - loss: 0.7322 - acc: 0.5938 - val_loss: 0.7824 - val_acc: 0.5134\n",
      "Epoch 8/55\n",
      "3/3 [==============================] - 32s 11s/step - loss: 0.7430 - acc: 0.5104 - val_loss: 0.7526 - val_acc: 0.5471\n",
      "Epoch 9/55\n",
      "3/3 [==============================] - 33s 11s/step - loss: 0.7650 - acc: 0.5104 - val_loss: 0.6552 - val_acc: 0.6203\n",
      "Epoch 10/55\n",
      "3/3 [==============================] - 34s 11s/step - loss: 0.6598 - acc: 0.6354 - val_loss: 0.7069 - val_acc: 0.5485\n",
      "Epoch 11/55\n",
      "3/3 [==============================] - 33s 11s/step - loss: 0.6261 - acc: 0.6146 - val_loss: 0.6635 - val_acc: 0.6022\n",
      "Epoch 12/55\n",
      "3/3 [==============================] - 32s 11s/step - loss: 0.6450 - acc: 0.5938 - val_loss: 0.6427 - val_acc: 0.6263\n",
      "Epoch 13/55\n",
      "3/3 [==============================] - 31s 10s/step - loss: 0.6640 - acc: 0.5833 - val_loss: 0.6544 - val_acc: 0.6204\n",
      "Epoch 14/55\n",
      "3/3 [==============================] - 32s 11s/step - loss: 0.7637 - acc: 0.4792 - val_loss: 0.8078 - val_acc: 0.5186\n",
      "Epoch 15/55\n",
      "3/3 [==============================] - 32s 11s/step - loss: 0.7443 - acc: 0.5625 - val_loss: 0.8426 - val_acc: 0.5027\n",
      "Epoch 16/55\n",
      "3/3 [==============================] - 32s 11s/step - loss: 0.6935 - acc: 0.5625 - val_loss: 0.6482 - val_acc: 0.6348\n",
      "Epoch 17/55\n",
      "3/3 [==============================] - 32s 11s/step - loss: 0.6905 - acc: 0.5521 - val_loss: 0.6775 - val_acc: 0.5718\n",
      "Epoch 18/55\n",
      "3/3 [==============================] - 32s 11s/step - loss: 0.6717 - acc: 0.5938 - val_loss: 0.6759 - val_acc: 0.5713\n",
      "Epoch 19/55\n",
      "3/3 [==============================] - 31s 10s/step - loss: 0.6807 - acc: 0.5833 - val_loss: 0.6514 - val_acc: 0.6349\n",
      "Epoch 20/55\n",
      "3/3 [==============================] - 33s 11s/step - loss: 0.6776 - acc: 0.5938 - val_loss: 0.6935 - val_acc: 0.5257\n",
      "Epoch 21/55\n",
      "3/3 [==============================] - 33s 11s/step - loss: 0.6393 - acc: 0.5521 - val_loss: 0.7250 - val_acc: 0.5083\n",
      "Epoch 22/55\n",
      "3/3 [==============================] - 33s 11s/step - loss: 0.7051 - acc: 0.5208 - val_loss: 0.6900 - val_acc: 0.5291\n",
      "Epoch 23/55\n",
      "3/3 [==============================] - 33s 11s/step - loss: 0.6519 - acc: 0.5521 - val_loss: 0.6588 - val_acc: 0.5702\n",
      "Epoch 24/55\n",
      "3/3 [==============================] - 31s 10s/step - loss: 0.6638 - acc: 0.5938 - val_loss: 0.6444 - val_acc: 0.6156\n",
      "Epoch 25/55\n",
      "3/3 [==============================] - 32s 11s/step - loss: 0.6433 - acc: 0.6667 - val_loss: 0.6424 - val_acc: 0.6204\n",
      "Epoch 26/55\n",
      "3/3 [==============================] - 32s 11s/step - loss: 0.6132 - acc: 0.6875 - val_loss: 0.6418 - val_acc: 0.6048\n",
      "Epoch 27/55\n",
      "3/3 [==============================] - 32s 11s/step - loss: 0.6388 - acc: 0.6458 - val_loss: 0.6444 - val_acc: 0.5855\n",
      "Epoch 28/55\n",
      "3/3 [==============================] - 32s 11s/step - loss: 0.6261 - acc: 0.6562 - val_loss: 0.6394 - val_acc: 0.6130\n",
      "Epoch 29/55\n",
      "3/3 [==============================] - 31s 10s/step - loss: 0.6612 - acc: 0.5938 - val_loss: 0.6330 - val_acc: 0.6488\n",
      "Epoch 30/55\n",
      "3/3 [==============================] - 32s 11s/step - loss: 0.6435 - acc: 0.6250 - val_loss: 0.6307 - val_acc: 0.6483\n",
      "Epoch 31/55\n",
      "3/3 [==============================] - 31s 10s/step - loss: 0.6814 - acc: 0.5729 - val_loss: 0.6258 - val_acc: 0.6644\n",
      "Epoch 32/55\n",
      "3/3 [==============================] - 28s 9s/step - loss: 0.6252 - acc: 0.6458 - val_loss: 0.6824 - val_acc: 0.5831\n",
      "Epoch 33/55\n",
      "3/3 [==============================] - 30s 10s/step - loss: 0.6405 - acc: 0.6979 - val_loss: 0.6195 - val_acc: 0.6612\n",
      "Epoch 34/55\n",
      "3/3 [==============================] - 32s 11s/step - loss: 0.6854 - acc: 0.5312 - val_loss: 0.6534 - val_acc: 0.5956\n",
      "Epoch 35/55\n",
      "3/3 [==============================] - 32s 11s/step - loss: 0.5922 - acc: 0.6562 - val_loss: 0.6446 - val_acc: 0.6128\n",
      "Epoch 36/55\n",
      "3/3 [==============================] - 32s 11s/step - loss: 0.6335 - acc: 0.6146 - val_loss: 0.6089 - val_acc: 0.6801\n",
      "Epoch 37/55\n",
      "3/3 [==============================] - 32s 11s/step - loss: 0.6116 - acc: 0.6667 - val_loss: 0.6095 - val_acc: 0.6664\n",
      "Epoch 38/55\n",
      "3/3 [==============================] - 31s 10s/step - loss: 0.6766 - acc: 0.6042 - val_loss: 0.6129 - val_acc: 0.6541\n",
      "Epoch 39/55\n",
      "3/3 [==============================] - 32s 11s/step - loss: 0.5865 - acc: 0.7083 - val_loss: 0.6063 - val_acc: 0.6763\n",
      "Epoch 40/55\n",
      "3/3 [==============================] - 32s 11s/step - loss: 0.5968 - acc: 0.7292 - val_loss: 0.6141 - val_acc: 0.6754\n",
      "Epoch 41/55\n",
      "3/3 [==============================] - 32s 11s/step - loss: 0.6652 - acc: 0.6458 - val_loss: 0.6239 - val_acc: 0.6616\n",
      "Epoch 42/55\n",
      "3/3 [==============================] - 28s 9s/step - loss: 0.6483 - acc: 0.6562 - val_loss: 0.6142 - val_acc: 0.6733\n",
      "Epoch 43/55\n",
      "3/3 [==============================] - 32s 11s/step - loss: 0.6266 - acc: 0.6458 - val_loss: 0.6042 - val_acc: 0.6856\n",
      "Epoch 44/55\n",
      "3/3 [==============================] - 32s 11s/step - loss: 0.5493 - acc: 0.7708 - val_loss: 0.6250 - val_acc: 0.6604\n",
      "Epoch 45/55\n",
      "3/3 [==============================] - 32s 11s/step - loss: 0.5959 - acc: 0.7188 - val_loss: 0.7080 - val_acc: 0.5918\n",
      "Epoch 46/55\n",
      "3/3 [==============================] - 32s 11s/step - loss: 0.6173 - acc: 0.6146 - val_loss: 0.6037 - val_acc: 0.6854\n",
      "Epoch 47/55\n",
      "3/3 [==============================] - 32s 11s/step - loss: 0.6632 - acc: 0.6146 - val_loss: 0.6241 - val_acc: 0.6519\n",
      "Epoch 48/55\n",
      "3/3 [==============================] - 32s 11s/step - loss: 0.6710 - acc: 0.5521 - val_loss: 0.6513 - val_acc: 0.6230\n",
      "Epoch 49/55\n",
      "3/3 [==============================] - 32s 11s/step - loss: 0.6010 - acc: 0.6771 - val_loss: 0.6162 - val_acc: 0.6463\n",
      "Epoch 50/55\n",
      "3/3 [==============================] - 32s 11s/step - loss: 0.6301 - acc: 0.6771 - val_loss: 0.5979 - val_acc: 0.6895\n",
      "Epoch 51/55\n",
      "3/3 [==============================] - 32s 11s/step - loss: 0.5783 - acc: 0.7083 - val_loss: 0.5981 - val_acc: 0.6913\n",
      "Epoch 52/55\n",
      "3/3 [==============================] - 32s 11s/step - loss: 0.6458 - acc: 0.6250 - val_loss: 0.6324 - val_acc: 0.6348\n",
      "Epoch 53/55\n",
      "3/3 [==============================] - 32s 11s/step - loss: 0.6245 - acc: 0.6458 - val_loss: 0.6226 - val_acc: 0.6559\n",
      "Epoch 54/55\n",
      "3/3 [==============================] - 32s 11s/step - loss: 0.6297 - acc: 0.6042 - val_loss: 0.6079 - val_acc: 0.6725\n",
      "Epoch 55/55\n",
      "3/3 [==============================] - 32s 11s/step - loss: 0.6227 - acc: 0.6146 - val_loss: 0.5993 - val_acc: 0.6801\n"
     ]
    },
    {
     "data": {
      "text/plain": [
       "<keras.callbacks.History at 0x22cef9f6c88>"
      ]
     },
     "execution_count": 11,
     "metadata": {},
     "output_type": "execute_result"
    }
   ],
   "source": [
    "# this will take long time\n",
    "classifier.fit_generator(training_set,\n",
    "                         samples_per_epoch = 100,#samples_per_epoch = 8000,\n",
    "                         nb_epoch = 55, # nb_epoch = 25,\n",
    "                         validation_data = test_set,\n",
    "                         nb_val_samples = 200)#nb_val_samples = 2000)\n"
   ]
  },
  {
   "cell_type": "code",
   "execution_count": 12,
   "metadata": {},
   "outputs": [],
   "source": [
    "import numpy as np\n",
    "from keras.preprocessing import image\n",
    "test_image = image.load_img('single_prediction\\cat_or_dog_1.jpg', target_size = (64, 64))"
   ]
  },
  {
   "cell_type": "code",
   "execution_count": 13,
   "metadata": {},
   "outputs": [
    {
     "data": {
      "image/png": "[encoded data removed]",
      "text/plain": [
       "<PIL.Image.Image image mode=RGB size=64x64 at 0x22CE7DC32E8>"
      ]
     },
     "execution_count": 13,
     "metadata": {},
     "output_type": "execute_result"
    }
   ],
   "source": [
    "test_image"
   ]
  },
  {
   "cell_type": "code",
   "execution_count": 14,
   "metadata": {},
   "outputs": [],
   "source": [
    "test_image = image.img_to_array(test_image)"
   ]
  },
  {
   "cell_type": "code",
   "execution_count": 15,
   "metadata": {},
   "outputs": [
    {
     "data": {
      "text/plain": [
       "array([[[ 54.,  58.,   7.],\n",
       "        [ 58.,  63.,   9.],\n",
       "        [ 64.,  67.,  10.],\n",
       "        ...,\n",
       "        [136., 144.,  71.],\n",
       "        [140., 150.,  77.],\n",
       "        [139., 149.,  78.]],\n",
       "\n",
       "       [[ 48.,  54.,   6.],\n",
       "        [ 51.,  58.,   7.],\n",
       "        [ 58.,  63.,   9.],\n",
       "        ...,\n",
       "        [129., 137.,  64.],\n",
       "        [139., 149.,  78.],\n",
       "        [141., 151.,  80.]],\n",
       "\n",
       "       [[ 48.,  56.,   7.],\n",
       "        [ 48.,  56.,   7.],\n",
       "        [ 54.,  61.,  10.],\n",
       "        ...,\n",
       "        [123., 130.,  63.],\n",
       "        [136., 145.,  80.],\n",
       "        [140., 149.,  82.]],\n",
       "\n",
       "       ...,\n",
       "\n",
       "       [[ 46.,  55.,  12.],\n",
       "        [ 42.,  50.,   9.],\n",
       "        [ 38.,  49.,   9.],\n",
       "        ...,\n",
       "        [239., 205., 170.],\n",
       "        [235., 209., 186.],\n",
       "        [229., 202., 173.]],\n",
       "\n",
       "       [[ 50.,  57.,  15.],\n",
       "        [ 42.,  50.,   9.],\n",
       "        [ 44.,  52.,  11.],\n",
       "        ...,\n",
       "        [234., 200., 162.],\n",
       "        [236., 206., 178.],\n",
       "        [234., 203., 174.]],\n",
       "\n",
       "       [[ 53.,  59.,  13.],\n",
       "        [ 43.,  51.,  10.],\n",
       "        [ 49.,  56.,  12.],\n",
       "        ...,\n",
       "        [231., 195., 159.],\n",
       "        [235., 213., 190.],\n",
       "        [233., 206., 179.]]], dtype=float32)"
      ]
     },
     "execution_count": 15,
     "metadata": {},
     "output_type": "execute_result"
    }
   ],
   "source": [
    "test_image"
   ]
  },
  {
   "cell_type": "code",
   "execution_count": 16,
   "metadata": {},
   "outputs": [],
   "source": [
    "test_image = np.expand_dims(test_image, axis = 0)"
   ]
  },
  {
   "cell_type": "code",
   "execution_count": 17,
   "metadata": {},
   "outputs": [
    {
     "data": {
      "text/plain": [
       "array([[[[ 54.,  58.,   7.],\n",
       "         [ 58.,  63.,   9.],\n",
       "         [ 64.,  67.,  10.],\n",
       "         ...,\n",
       "         [136., 144.,  71.],\n",
       "         [140., 150.,  77.],\n",
       "         [139., 149.,  78.]],\n",
       "\n",
       "        [[ 48.,  54.,   6.],\n",
       "         [ 51.,  58.,   7.],\n",
       "         [ 58.,  63.,   9.],\n",
       "         ...,\n",
       "         [129., 137.,  64.],\n",
       "         [139., 149.,  78.],\n",
       "         [141., 151.,  80.]],\n",
       "\n",
       "        [[ 48.,  56.,   7.],\n",
       "         [ 48.,  56.,   7.],\n",
       "         [ 54.,  61.,  10.],\n",
       "         ...,\n",
       "         [123., 130.,  63.],\n",
       "         [136., 145.,  80.],\n",
       "         [140., 149.,  82.]],\n",
       "\n",
       "        ...,\n",
       "\n",
       "        [[ 46.,  55.,  12.],\n",
       "         [ 42.,  50.,   9.],\n",
       "         [ 38.,  49.,   9.],\n",
       "         ...,\n",
       "         [239., 205., 170.],\n",
       "         [235., 209., 186.],\n",
       "         [229., 202., 173.]],\n",
       "\n",
       "        [[ 50.,  57.,  15.],\n",
       "         [ 42.,  50.,   9.],\n",
       "         [ 44.,  52.,  11.],\n",
       "         ...,\n",
       "         [234., 200., 162.],\n",
       "         [236., 206., 178.],\n",
       "         [234., 203., 174.]],\n",
       "\n",
       "        [[ 53.,  59.,  13.],\n",
       "         [ 43.,  51.,  10.],\n",
       "         [ 49.,  56.,  12.],\n",
       "         ...,\n",
       "         [231., 195., 159.],\n",
       "         [235., 213., 190.],\n",
       "         [233., 206., 179.]]]], dtype=float32)"
      ]
     },
     "execution_count": 17,
     "metadata": {},
     "output_type": "execute_result"
    }
   ],
   "source": [
    "test_image"
   ]
  },
  {
   "cell_type": "code",
   "execution_count": 18,
   "metadata": {},
   "outputs": [
    {
     "data": {
      "text/plain": [
       "array([[1.]], dtype=float32)"
      ]
     },
     "execution_count": 18,
     "metadata": {},
     "output_type": "execute_result"
    }
   ],
   "source": [
    "result = classifier.predict(test_image)\n",
    "# v r trying to predict\n",
    "result "
   ]
  },
  {
   "cell_type": "code",
   "execution_count": 19,
   "metadata": {
    "scrolled": true
   },
   "outputs": [
    {
     "name": "stdout",
     "output_type": "stream",
     "text": [
      "{'cats': 0, 'dogs': 1}\n"
     ]
    }
   ],
   "source": [
    "print(training_set.class_indices)\n",
    "\n",
    "if result[0][0] == 1:\n",
    "    prediction = 'dog'\n",
    "else:\n",
    "    prediction = 'cat'"
   ]
  },
  {
   "cell_type": "code",
   "execution_count": 20,
   "metadata": {},
   "outputs": [
    {
     "name": "stdout",
     "output_type": "stream",
     "text": [
      "cat\n"
     ]
    }
   ],
   "source": [
    "test_image = image.load_img('single_prediction\\cat_or_dog_2.jpg', target_size = (64, 64))\n",
    "test_image = image.img_to_array(test_image)\n",
    "test_image = np.expand_dims(test_image, axis = 0)\n",
    "result = classifier.predict(test_image)\n",
    "training_set.class_indices\n",
    "if result[0][0] == 1:\n",
    "    prediction = 'dog'\n",
    "else:\n",
    "    prediction = 'cat'\n",
    "print(prediction)"
   ]
  },
  {
   "cell_type": "code",
   "execution_count": null,
   "metadata": {},
   "outputs": [],
   "source": []
  }
 ],
 "metadata": {
  "kernelspec": {
   "display_name": "Python 3",
   "language": "python",
   "name": "python3"
  },
  "language_info": {
   "codemirror_mode": {
    "name": "ipython",
    "version": 3
   },
   "file_extension": ".py",
   "mimetype": "text/x-python",
   "name": "python",
   "nbconvert_exporter": "python",
   "pygments_lexer": "ipython3",
   "version": "3.7.3"
  }
 },
 "nbformat": 4,
 "nbformat_minor": 2
}
